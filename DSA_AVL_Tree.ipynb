{
  "nbformat": 4,
  "nbformat_minor": 0,
  "metadata": {
    "colab": {
      "name": "DSA_AVL-Tree.ipynb",
      "provenance": [],
      "collapsed_sections": []
    },
    "kernelspec": {
      "name": "python3",
      "display_name": "Python 3"
    },
    "language_info": {
      "name": "python"
    }
  },
  "cells": [
    {
      "cell_type": "code",
      "metadata": {
        "id": "HaSYQijgsord"
      },
      "source": [
        "import queue as q\n",
        "class AVL():\n",
        "  def __init__(self,data):\n",
        "    self.data = data\n",
        "    self.l = None\n",
        "    self.r = None\n",
        "    self.h = 1\n",
        "\n",
        "def preorderT(rootN):\n",
        "    if not rootN:\n",
        "        return\n",
        "    print(rootN.data)\n",
        "    preorderT(rootN.l)\n",
        "    preorderT(rootN.r)\n",
        "\n",
        "def inorderT(rootNode):\n",
        "    if not rootNode:\n",
        "        return\n",
        "    inorderT(rootNode.l)\n",
        "    print(rootNode.data)\n",
        "    inorderT(rootNode.r)\n",
        "\n",
        "def postorderT(rootvalue):\n",
        "    if not rootvalue:\n",
        "        return\n",
        "    postorderT(rootvalue.l)\n",
        "    postorderT(rootvalue.r)\n",
        "    print(rootvalue.data)\n",
        "\n",
        "def lvlorderT(root):\n",
        "  h = height(root)\n",
        "  for i  in range(1, h + 1):\n",
        "    printCurrentLevel(root, i)\n",
        "\n",
        "def printCurrentLevel(root , level):\n",
        "    if root is None:\n",
        "        return\n",
        "    if level == 1:\n",
        "        print(root.data,end=\" \")\n",
        "    elif level > 1 :\n",
        "        printCurrentLevel(root.l , level-1)\n",
        "        printCurrentLevel(root.r , level-1)\n",
        "\n",
        "def height(node):\n",
        "    if node is None:\n",
        "        return 0\n",
        "    else :\n",
        "       \n",
        "        lh = height(node.l)\n",
        "        rh = height(node.r)\n",
        " \n",
        "        if lh > rh :\n",
        "            return lh+1\n",
        "        else:\n",
        "            return rh+1\n",
        "\n",
        "def searchAVL(root,val):\n",
        "  if root.data == val:\n",
        "        print(\"The value is found\")\n",
        "  elif val < root.data:\n",
        "    if root.l.data == val:\n",
        "      print(\"The value is found at the left side\")\n",
        "    else:\n",
        "      searchAVL(root.l,val)\n",
        "  else:\n",
        "    if root.r.data == val:\n",
        "      print(\"The value is found at the right side\")\n",
        "    else:\n",
        "      searchAVL(root.r,val)\n",
        "\n",
        "def hei(node):\n",
        "  if not node:\n",
        "    return 0\n",
        "  return node.h\n",
        "\n",
        "def rr(disBalancednode):\n",
        "  newr = disBalancednode.l\n",
        "  disBalancednode.l = disBalancednode.l.r\n",
        "  newr.r = disBalancednode\n",
        "  disBalancednode.h = 1 + max(hei(disBalancednode.l),hei(disBalancednode.r))\n",
        "  newr.h = 1 + max(hei(newr.l),hei(newr.r))\n",
        "  return newr\n",
        "\n",
        "def lr(disBalancednode):\n",
        "  newr = disBalancednode.r\n",
        "  disBalancednode.r = disBalancednode.r.l\n",
        "  newr.l = disBalancednode\n",
        "  disBalancednode.h = 1 + max(hei(disBalancednode.l),hei(disBalancednode.r))\n",
        "  newr.h = 1 + max(hei(newr.l),hei(newr.r))\n",
        "  return newr\n",
        "\n",
        "\n",
        "def balance(rootNode):\n",
        "    if not rootNode:\n",
        "        return 0\n",
        "    return hei(rootNode.l) - hei(rootNode.r)\n",
        "\n",
        "def insertion(root,value):\n",
        "  if not root:\n",
        "        return AVL(value)\n",
        "  elif value < root.data:\n",
        "    root.l = insertion(root.l,value)\n",
        "  else:\n",
        "    root.r = insertion(root.r,value)\n",
        "\n",
        "  root.h = 1 + max(hei(root.l),hei(root.r))\n",
        "  bal = balance(root)\n",
        "  if bal > 1 and value < root.l.data:\n",
        "    return rr(root)\n",
        "  if bal > 1 and value > root.l.data:\n",
        "     root.l = lr(root.l)\n",
        "     return rr(root)\n",
        "  if bal <  -1 and value > root.r.data:\n",
        "    return lr(root)\n",
        "  if bal < -1  and value < root.r.data:\n",
        "    root.r = rr(root.r)\n",
        "    return lr(root)\n",
        "  return root\n",
        "\n",
        "def minV(root):\n",
        "  if root is None or root.l is None:\n",
        "    return root\n",
        "  return minV(root.l)\n",
        "\n",
        "def deletionAVL(root,value):\n",
        "  if not root:\n",
        "    return root\n",
        "  elif value < root.data:\n",
        "    root.l = deletionAVL(root.l,value)\n",
        "  elif value > root.data:\n",
        "    root.r = deletionAVL(root.r,value)\n",
        "  else:\n",
        "    if root.l is None:\n",
        "      temp = root.r\n",
        "      root = None\n",
        "      return temp\n",
        "    elif root.r is None:\n",
        "      temp = root.l\n",
        "      root = None\n",
        "      return temp\n",
        "    temp = minV(root.r)\n",
        "    root.data = temp.data\n",
        "    root.r = deletionAVL(root.r, temp.data)\n",
        "    root.h = 1 + max(hei(root.l),hei(root.r))\n",
        "  bal = balance(root)\n",
        "  if bal > 1 and value < root.l.data:\n",
        "    return rr(root)\n",
        "  if bal > 1 and value > root.l.data:\n",
        "     root.l = lr(root.l)\n",
        "     return rr(root)\n",
        "  if bal <  -1 and value > root.r.data:\n",
        "    return lr(root)\n",
        "  if bal < -1  and value < root.r.data:\n",
        "    root.r = rr(root.r)\n",
        "    return lr(root)\n",
        "  return root\n",
        "\n",
        "def delWhole(root):\n",
        "  root.data = None\n",
        "  root.l = None\n",
        "  root.r = None\n",
        "  return \" Deleted\"\n",
        "\n",
        "\n",
        "\n",
        "\n",
        "\n",
        "\n",
        "\n",
        "\n",
        "\n",
        "myAVL = AVL(100)"
      ],
      "execution_count": 21,
      "outputs": []
    },
    {
      "cell_type": "code",
      "metadata": {
        "colab": {
          "base_uri": "https://localhost:8080/"
        },
        "id": "LXO4GJE8HKxN",
        "outputId": "105111cb-2966-4b29-df5c-b7265892c3a8"
      },
      "source": [
        "lvlorderT(myAVL)"
      ],
      "execution_count": 17,
      "outputs": [
        {
          "output_type": "stream",
          "text": [
            "155 100 1000 200 "
          ],
          "name": "stdout"
        }
      ]
    },
    {
      "cell_type": "code",
      "metadata": {
        "id": "p3OZWUOiHfLb"
      },
      "source": [
        "myAVL = insertion(myAVL,300)\n",
        "myAVL = AVL(100)\n",
        "myAVL = insertion(myAVL, 1000)\n",
        "myAVL = insertion(myAVL, 155)\n",
        "myAVL = insertion(myAVL, 200)\n",
        "    \n",
        "\n",
        "\n",
        "\n"
      ],
      "execution_count": 16,
      "outputs": []
    },
    {
      "cell_type": "code",
      "metadata": {
        "colab": {
          "base_uri": "https://localhost:8080/"
        },
        "id": "4PdpcysCJYcU",
        "outputId": "dfc1b0e3-36d0-44d0-fea1-ebd748eac493"
      },
      "source": [
        "preorderT(myAVL)\n"
      ],
      "execution_count": null,
      "outputs": [
        {
          "output_type": "stream",
          "text": [
            "155\n",
            "100\n",
            "1000\n",
            "200\n"
          ],
          "name": "stdout"
        }
      ]
    },
    {
      "cell_type": "code",
      "metadata": {
        "colab": {
          "base_uri": "https://localhost:8080/"
        },
        "id": "20CNvE_PWyDT",
        "outputId": "dea303eb-c822-452e-d1f6-c94c4d4a9a2f"
      },
      "source": [
        "inorderT(myAVL)"
      ],
      "execution_count": null,
      "outputs": [
        {
          "output_type": "stream",
          "text": [
            "100\n",
            "155\n",
            "200\n",
            "1000\n"
          ],
          "name": "stdout"
        }
      ]
    },
    {
      "cell_type": "code",
      "metadata": {
        "id": "wjm7l-vOXtqS",
        "colab": {
          "base_uri": "https://localhost:8080/"
        },
        "outputId": "2182c517-92fb-47be-8799-d28986ef67d2"
      },
      "source": [
        "deletionAVL(myAVL,1000)\n",
        "lvlorderT(myAVL)"
      ],
      "execution_count": 18,
      "outputs": [
        {
          "output_type": "stream",
          "text": [
            "155 100 200 "
          ],
          "name": "stdout"
        }
      ]
    },
    {
      "cell_type": "code",
      "metadata": {
        "colab": {
          "base_uri": "https://localhost:8080/"
        },
        "id": "NDeH9aer6jJK",
        "outputId": "eb3c42a1-2261-4eee-be9f-a23cb09f4f23"
      },
      "source": [
        "delWhole(myAVL)\n",
        "lvlorderT(myAVL)"
      ],
      "execution_count": 22,
      "outputs": [
        {
          "output_type": "stream",
          "text": [
            "None "
          ],
          "name": "stdout"
        }
      ]
    }
  ]
}
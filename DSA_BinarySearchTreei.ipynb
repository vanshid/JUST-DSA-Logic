{
  "nbformat": 4,
  "nbformat_minor": 0,
  "metadata": {
    "colab": {
      "name": "DSA_BinarySearchTreei.ipynb",
      "provenance": [],
      "collapsed_sections": []
    },
    "kernelspec": {
      "name": "python3",
      "display_name": "Python 3"
    },
    "language_info": {
      "name": "python"
    }
  },
  "cells": [
    {
      "cell_type": "code",
      "metadata": {
        "id": "YsyyCyaGjk_l",
        "colab": {
          "base_uri": "https://localhost:8080/",
          "height": 37
        },
        "outputId": "81e11678-4bc5-4b38-f4d0-e020afae780f"
      },
      "source": [
        "class BSTNode:\n",
        "    def __init__(self, data):\n",
        "        self.data = data\n",
        "        self.l = None\n",
        "        self.r = None\n",
        "\n",
        "def insertion(root,val):\n",
        "    if root.data == None:\n",
        "        root.data = val\n",
        "    elif val <= root.data:\n",
        "        if root.l is None:\n",
        "            root.l = BSTNode(val)\n",
        "        else:\n",
        "            insertion(root.l, val)\n",
        "    else:\n",
        "        if root.r is None:\n",
        "            root.r = BSTNode(val)\n",
        "        else:\n",
        "            insertion(root.r, val)\n",
        "    return \"The node has been successfully inserted\"\n",
        "\n",
        "def preorderT(rootN):\n",
        "    if not rootN:\n",
        "        return\n",
        "    print(rootN.data)\n",
        "    preorderT(rootN.l)\n",
        "    preorderT(rootN.r)\n",
        "\n",
        "def inorderT(rootNode):\n",
        "    if not rootNode:\n",
        "        return\n",
        "    inorderT(rootNode.l)\n",
        "    print(rootNode.data)\n",
        "    inorderT(rootNode.r)\n",
        "\n",
        "def postorderT(rootvalue):\n",
        "    if not rootvalue:\n",
        "        return\n",
        "    postorderT(rootvalue.l)\n",
        "    postorderT(rootvalue.r)\n",
        "    print(rootvalue.data)\n",
        "\n",
        "def levelorderT(root):\n",
        "  h = height(root)\n",
        "  for i in range(1, h+1):\n",
        "        printCurrentLevel(root, i)\n",
        "\n",
        "def printCurrentLevel(root , level):\n",
        "    if root is None:\n",
        "        return\n",
        "    if level == 1:\n",
        "        print(root.data,end=\" \")\n",
        "    elif level > 1 :\n",
        "        printCurrentLevel(root.l , level-1)\n",
        "        printCurrentLevel(root.r , level-1)\n",
        " \n",
        "\n",
        "def height(node):\n",
        "    if node is None:\n",
        "        return 0\n",
        "    else :\n",
        "       \n",
        "        lh = height(node.l)\n",
        "        rh = height(node.r)\n",
        " \n",
        "        if lh > rh :\n",
        "            return lh+1\n",
        "        else:\n",
        "            return rh+1\n",
        "\n",
        "def searchBST(root,value):\n",
        "  if root.data == value:\n",
        "    print(\"It's here\")\n",
        "  elif value < root.data:\n",
        "    if root.l.data == value:\n",
        "      print(\"It's on the left\")\n",
        "    else:\n",
        "      searchBST(root.l,value)\n",
        "  else:\n",
        "    if root.r.data == value:\n",
        "      print(\"it's on the right\")\n",
        "    else:\n",
        "      searchBST(root.r,value)\n",
        "\n",
        "def miniV(bstnode):\n",
        "  curN = bstnode\n",
        "  while curN.l is not None:\n",
        "    curr = curN.l\n",
        "    return curr\n",
        "\n",
        "def delN(root,val):\n",
        "  if root is None:\n",
        "    return root\n",
        "  if val < root.data:\n",
        "    root.l = delN(root.l,val)\n",
        "  elif val > root.data:\n",
        "    root.r = delN(root.r,val)\n",
        "  else:\n",
        "    if root.l is None:\n",
        "              temp = root.r\n",
        "              root = None\n",
        "              return temp\n",
        "          \n",
        "    if root.r is None:\n",
        "              temp = root.l\n",
        "              root = None\n",
        "              return temp\n",
        "\n",
        "    temp = miniV(root.r)\n",
        "    root.data = temp.data\n",
        "    root.r = delN(root.r,temp.data)\n",
        "  return root\n",
        "\n",
        "def deletion(root):\n",
        "  root.data = None\n",
        "  root.r = None\n",
        "  root.l = None\n",
        "  return \" Whole BST is deleted \"\n",
        "\n",
        "\n",
        "\n",
        "newBST = BSTNode(None)\n",
        "insertion(newBST, 7000)\n",
        "insertion(newBST,50)\n",
        "insertion(newBST,900)\n",
        "insertion(newBST, 3670)\n",
        "insertion(newBST,600)\n",
        "insertion(newBST,870)\n",
        "insertion(newBST,1090)\n",
        "insertion(newBST,20)\n",
        "insertion(newBST,40)\n",
        "\n",
        "\n",
        "\n",
        "\n",
        "\n",
        "\n"
      ],
      "execution_count": null,
      "outputs": [
        {
          "output_type": "execute_result",
          "data": {
            "application/vnd.google.colaboratory.intrinsic+json": {
              "type": "string"
            },
            "text/plain": [
              "'The node has been successfully inserted'"
            ]
          },
          "metadata": {},
          "execution_count": 89
        }
      ]
    },
    {
      "cell_type": "code",
      "metadata": {
        "colab": {
          "base_uri": "https://localhost:8080/"
        },
        "id": "045D-UfOZJGm",
        "outputId": "c57862e7-3e10-4fbc-90cb-6696a71bbc3f"
      },
      "source": [
        "preorderT(newBST)"
      ],
      "execution_count": null,
      "outputs": [
        {
          "output_type": "stream",
          "text": [
            "7000\n",
            "50\n",
            "20\n",
            "40\n",
            "900\n",
            "600\n",
            "870\n",
            "3670\n",
            "1090\n"
          ],
          "name": "stdout"
        }
      ]
    },
    {
      "cell_type": "code",
      "metadata": {
        "colab": {
          "base_uri": "https://localhost:8080/"
        },
        "id": "oQh583fYjaQf",
        "outputId": "0c04c9cc-38b6-4bab-bd43-15ebb6b68dac"
      },
      "source": [
        "inorderT(newBST)"
      ],
      "execution_count": null,
      "outputs": [
        {
          "output_type": "stream",
          "text": [
            "20\n",
            "40\n",
            "50\n",
            "600\n",
            "870\n",
            "900\n",
            "1090\n",
            "3670\n",
            "7000\n"
          ],
          "name": "stdout"
        }
      ]
    },
    {
      "cell_type": "code",
      "metadata": {
        "colab": {
          "base_uri": "https://localhost:8080/"
        },
        "id": "cPa-lUdMgjEG",
        "outputId": "f4496ca0-1249-4d60-8735-88643b330e80"
      },
      "source": [
        "postorderT(newBST)"
      ],
      "execution_count": null,
      "outputs": [
        {
          "output_type": "stream",
          "text": [
            "40\n",
            "20\n",
            "870\n",
            "600\n",
            "1090\n",
            "3670\n",
            "900\n",
            "50\n",
            "7000\n"
          ],
          "name": "stdout"
        }
      ]
    },
    {
      "cell_type": "code",
      "metadata": {
        "id": "Lpq2MGQVjzXk",
        "colab": {
          "base_uri": "https://localhost:8080/"
        },
        "outputId": "d0a1edbe-c3d5-422e-f675-1235cd2ed312"
      },
      "source": [
        "levelorderT(newBST)\n"
      ],
      "execution_count": null,
      "outputs": [
        {
          "output_type": "stream",
          "text": [
            "7000 50 20 900 40 600 3670 870 1090 "
          ],
          "name": "stdout"
        }
      ]
    },
    {
      "cell_type": "code",
      "metadata": {
        "colab": {
          "base_uri": "https://localhost:8080/"
        },
        "id": "8pzRBa0lmnMo",
        "outputId": "c3eb6273-0411-4607-c21e-e6c67ce7e5ea"
      },
      "source": [
        "printCurrentLevel(newBST,5)"
      ],
      "execution_count": null,
      "outputs": [
        {
          "output_type": "stream",
          "text": [
            "870 1090 "
          ],
          "name": "stdout"
        }
      ]
    },
    {
      "cell_type": "code",
      "metadata": {
        "colab": {
          "base_uri": "https://localhost:8080/"
        },
        "id": "_FMTEebup58t",
        "outputId": "f01eb337-443e-4236-92dc-b3bf31525a2c"
      },
      "source": [
        "searchBST(newBST,1090)"
      ],
      "execution_count": null,
      "outputs": [
        {
          "output_type": "stream",
          "text": [
            "It's on the left\n"
          ],
          "name": "stdout"
        }
      ]
    },
    {
      "cell_type": "code",
      "metadata": {
        "colab": {
          "base_uri": "https://localhost:8080/"
        },
        "id": "v7r7Qml_wO0r",
        "outputId": "7830855a-1441-4617-ee1e-f4cb02c487e5"
      },
      "source": [
        "delN(newBST,40)"
      ],
      "execution_count": null,
      "outputs": [
        {
          "output_type": "execute_result",
          "data": {
            "text/plain": [
              "<__main__.BSTNode at 0x7f2829779990>"
            ]
          },
          "metadata": {},
          "execution_count": 90
        }
      ]
    },
    {
      "cell_type": "code",
      "metadata": {
        "colab": {
          "base_uri": "https://localhost:8080/",
          "height": 37
        },
        "id": "0Rdrv-TxwOnl",
        "outputId": "f12e12ad-08f6-4056-8a1c-fae3f6d38ee6"
      },
      "source": [
        "deletion(newBST)"
      ],
      "execution_count": null,
      "outputs": [
        {
          "output_type": "execute_result",
          "data": {
            "application/vnd.google.colaboratory.intrinsic+json": {
              "type": "string"
            },
            "text/plain": [
              "' Whole BST is deleted '"
            ]
          },
          "metadata": {},
          "execution_count": 91
        }
      ]
    },
    {
      "cell_type": "code",
      "metadata": {
        "id": "fVfDzzL3jzIO"
      },
      "source": [
        "def deleteBST(rootNode):\n",
        "    rootNode.data = None\n",
        "    rootNode.leftChild = None\n",
        "    rootNode.rightChild = None\n",
        "    return \"The BST has been successfully deleted\"\n",
        "\n"
      ],
      "execution_count": null,
      "outputs": []
    }
  ]
}
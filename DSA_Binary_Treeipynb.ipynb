{
  "nbformat": 4,
  "nbformat_minor": 0,
  "metadata": {
    "colab": {
      "name": "DSA_Binary Treeipynb",
      "provenance": [],
      "collapsed_sections": [
        "D1UY2LoMUJVc",
        "xK3FNvqtUTgr"
      ]
    },
    "kernelspec": {
      "name": "python3",
      "display_name": "Python 3"
    },
    "language_info": {
      "name": "python"
    }
  },
  "cells": [
    {
      "cell_type": "markdown",
      "metadata": {
        "id": "D1UY2LoMUJVc"
      },
      "source": [
        "# Simple Tree"
      ]
    },
    {
      "cell_type": "code",
      "metadata": {
        "colab": {
          "base_uri": "https://localhost:8080/"
        },
        "id": "41JhLISj6GTI",
        "outputId": "54f092bd-ca17-4015-d10e-4d60f5d64592"
      },
      "source": [
        "class TreeNode:\n",
        "  def __init__(self,data,childern = []):\n",
        "    self.data = data\n",
        "    self.childern = childern\n",
        "\n",
        "  def __str__(self,level = 0):\n",
        "    ret = \" \" * level + str(self.data) + \"\\n\"\n",
        "    for child in self.childern:\n",
        "      ret += child.__str__(level + 1)\n",
        "    return ret\n",
        "\n",
        "  def addCH(self,TreeNode):\n",
        "    self.childern.append(TreeNode)\n",
        "\n",
        "Books = TreeNode(\"Novels I Like:\",[])\n",
        "Dark = TreeNode(\"Dark\",[])\n",
        "Sci_fi = TreeNode(\"Sci-fi\",[])\n",
        "\n",
        "Books.addCH(Dark)\n",
        "Books.addCH(Sci_fi)\n",
        "\n",
        "mafia = TreeNode(\"Mafia Assassin\", [])\n",
        "abuse = TreeNode('His Demons', [])\n",
        "time = TreeNode('The Red door', [])\n",
        "space = TreeNode('The long walk', [])\n",
        "Dark.addCH(mafia)\n",
        "Dark.addCH(abuse)\n",
        "Sci_fi.addCH(time)\n",
        "Sci_fi.addCH(space)\n",
        "print(Books)"
      ],
      "execution_count": null,
      "outputs": [
        {
          "output_type": "stream",
          "text": [
            "Novels I Like:\n",
            " Dark\n",
            "  Mafia Assassin\n",
            "  His Demons\n",
            " Sci-fi\n",
            "  The Red door\n",
            "  The long walk\n",
            "\n"
          ],
          "name": "stdout"
        }
      ]
    },
    {
      "cell_type": "markdown",
      "metadata": {
        "id": "xK3FNvqtUTgr"
      },
      "source": [
        "# Binary Tree - LinkedList\n",
        "**DFS**\n",
        "\n",
        "1.   **Preorder Traversal**:\n",
        "\n",
        "          Root -> Left -> Right\n",
        "\n",
        "          Time C: O(n) and Space: O(n)\n",
        "\n",
        "1.   **In-order Traversal**:\n",
        "\n",
        "          left -> root -> right\n",
        "    \n",
        "          Time C: O(n) and Space: O(n)\n",
        "\n",
        " \n",
        "3.   **Post-order Traversal**\n",
        "\n",
        "          left -> right -> root\n",
        "\n",
        "          Time C: O(n) and Space: O(n)\n",
        "\n",
        "**BFS**\n",
        "\n",
        "\n",
        "1.   **Level-order Traversal**\n",
        "\n",
        "          left -> right -> root\n",
        "\n",
        "          Time C: O(n) and Space: O(n)\n",
        "\n",
        "\n",
        "\n",
        "\n",
        "\n"
      ]
    },
    {
      "cell_type": "code",
      "metadata": {
        "id": "wEXKsAtZUYZx"
      },
      "source": [
        "import queue as queue\n",
        "import collections\n",
        "class BTNode:\n",
        "  def __init__(self,data):\n",
        "    self.data = data\n",
        "    self.l = None\n",
        "    self.r = None\n",
        "\n",
        "BT = BTNode(\"Books\")\n",
        "left = BTNode(\"Dark\")\n",
        "right = BTNode(\"Sci-fi\")\n",
        "mafia = BTNode(\"Mafia Assassin\")\n",
        "abuse = BTNode('His Demons')\n",
        "time = BTNode('The Red door')\n",
        "space = BTNode('The long walk')\n",
        "BT.l = left\n",
        "BT.r = right\n",
        "\n",
        "def preorder(root):\n",
        "  if not root:\n",
        "    return\n",
        "  print(root.data) \n",
        "  preorder(root.l)\n",
        "  preorder(root.r)\n",
        "\n",
        "def inorder(root):\n",
        "  if not root:\n",
        "    return\n",
        "  else:\n",
        "    inorder(root.l)\n",
        "    print(root.data)\n",
        "    inorder(root.r)\n",
        "\n",
        "def postorder(root):\n",
        "  if not root:\n",
        "    return\n",
        "  else:\n",
        "    postorder(root.l)\n",
        "    postorder(root.r)\n",
        "    print(root.data)\n",
        "\n",
        "def lvlorder(root):\n",
        "    lis = []\n",
        "    if root is not None:\n",
        "      return lis\n",
        "    Q = collections.deque(root)\n",
        "    Q.append(root)\n",
        "    print(root.data)\n",
        "    while Q:\n",
        "      size = len(Q)\n",
        "      sizeLi = []\n",
        "      while size >= 0:\n",
        "        cNode = Q.push()\n",
        "        sizeLi.append(cNode)\n",
        "        size -= 1\n",
        "\n",
        "        if cNode.l is not None:\n",
        "          Q.append(cNode.data.l)\n",
        "        if cNode.r is not None:\n",
        "          Q.append(cNode.data.r)\n",
        "        \n",
        "      lis.append(sizeLi)\n",
        "    return lis\n",
        "\n",
        "\n",
        "\n"
      ],
      "execution_count": null,
      "outputs": []
    },
    {
      "cell_type": "code",
      "metadata": {
        "colab": {
          "base_uri": "https://localhost:8080/"
        },
        "id": "8gTvPWJ_0lYJ",
        "outputId": "cd792f1d-937c-4ba9-c9d0-23e8f7131f8b"
      },
      "source": [
        "preorder(BT)"
      ],
      "execution_count": null,
      "outputs": [
        {
          "output_type": "stream",
          "text": [
            "Books\n",
            "Dark\n",
            "Sci-fi\n"
          ],
          "name": "stdout"
        }
      ]
    },
    {
      "cell_type": "code",
      "metadata": {
        "colab": {
          "base_uri": "https://localhost:8080/"
        },
        "id": "VVWIXoC20mez",
        "outputId": "b96f5868-afb6-45fc-c4fa-12d46ece1b9d"
      },
      "source": [
        "inorder(BT)"
      ],
      "execution_count": null,
      "outputs": [
        {
          "output_type": "stream",
          "text": [
            "Dark\n",
            "Books\n",
            "Sci-fi\n"
          ],
          "name": "stdout"
        }
      ]
    },
    {
      "cell_type": "code",
      "metadata": {
        "colab": {
          "base_uri": "https://localhost:8080/"
        },
        "id": "BOiVO3sgp-Y5",
        "outputId": "27009307-cc1f-4e70-db0e-58a5cf692deb"
      },
      "source": [
        "postorder(BT)"
      ],
      "execution_count": null,
      "outputs": [
        {
          "output_type": "stream",
          "text": [
            "Dark\n",
            "Sci-fi\n",
            "Books\n"
          ],
          "name": "stdout"
        }
      ]
    },
    {
      "cell_type": "code",
      "metadata": {
        "colab": {
          "base_uri": "https://localhost:8080/"
        },
        "id": "J_XoQ3ud5HNM",
        "outputId": "580c1e7f-37fa-4adf-d3f5-c97e0df7cbaf"
      },
      "source": [
        "root = BTNode(1)\n",
        "root.l = BTNode(2)\n",
        "root.r = BTNode(3)\n",
        "root.l.r = BTNode(4)\n",
        "root.l.r = BTNode(5)\n",
        "lvlorder(BT)"
      ],
      "execution_count": null,
      "outputs": [
        {
          "output_type": "execute_result",
          "data": {
            "text/plain": [
              "[]"
            ]
          },
          "metadata": {},
          "execution_count": 103
        }
      ]
    },
    {
      "cell_type": "markdown",
      "metadata": {
        "id": "Vn1gl_Z3_ybH"
      },
      "source": [
        "# Binary Tree - List"
      ]
    },
    {
      "cell_type": "markdown",
      "metadata": {
        "id": "Dquz2XaxDP7X"
      },
      "source": [
        "**Creation**\n",
        "\n",
        "    O(1) - Time C.\n",
        "\n",
        "    O(n) - Space C.\n",
        "**Insertion**\n",
        "\n",
        "    O(1) - Time C.\n",
        "\n",
        "    O(1) - Space C.\n",
        "**Searching**\n",
        "\n",
        "    O(n) - Time C.\n",
        "\n",
        "    O(1) - Space C.\n",
        "**Deleting whole**\n",
        "\n",
        "    O(1) - Time C.\n",
        "\n",
        "    O(1) - Space C.\n",
        "   \n",
        "**Deleting a node**\n",
        "   \n",
        "    O(n) - Time C.\n",
        "\n",
        "    O(1) - Space C.\n",
        "\n",
        "1.   **Preorder Traversal**:\n",
        "\n",
        "          Root -> Left -> Right\n",
        "\n",
        "          Time C: O(n) and Space: O(n)\n",
        "\n",
        "1.   **In-order Traversal**:\n",
        "\n",
        "          left -> root -> right\n",
        "    \n",
        "          Time C: O(n) and Space: O(n)\n",
        "\n",
        " \n",
        "3.   **Post-order Traversal**\n",
        "\n",
        "          left -> right -> root\n",
        "\n",
        "          Time C: O(n) and Space: O(n)\n",
        "\n",
        "**BFS**\n",
        "\n",
        "\n",
        "1.   **Level-order Traversal**\n",
        "\n",
        "          left -> right -> root\n",
        "\n",
        "          Time C: O(n) and Space: O(1)\n"
      ]
    },
    {
      "cell_type": "code",
      "metadata": {
        "id": "CVUTLMm9_2GI",
        "colab": {
          "base_uri": "https://localhost:8080/"
        },
        "outputId": "150a4b9e-84b2-4a88-962c-7dc7eba146f7"
      },
      "source": [
        "class BTT:\n",
        "  def __init__(self,size):\n",
        "    self.li = size * [None]\n",
        "    self.lastusedidx = 0\n",
        "    self.maxsize = size\n",
        "\n",
        "  def insert(self,value):\n",
        "    if self.lastusedidx + 1 == self.maxsize:\n",
        "      return \"Full BT\"\n",
        "    else:\n",
        "      self.li[self.lastusedidx + 1 ] = value\n",
        "      self.lastusedidx += 1\n",
        "      return \"Inserted in a BT\"\n",
        "\n",
        "  def search(self,nv):\n",
        "    for sea in range(len(self.li)):\n",
        "      if self.li[sea] == nv:\n",
        "        return \"Yes\"\n",
        "\n",
        "  def preorderT(self,idx):\n",
        "    if idx > self.lastusedidx:\n",
        "      return \"Nothing\"\n",
        "    else:\n",
        "      print(self.li[idx])\n",
        "      self.preorderT(idx * 2)\n",
        "      self.preorderT(idx * 2 + 1)\n",
        "\n",
        "  def inorderT(self,idx):\n",
        "    if idx > self.lastusedidx:\n",
        "      return \"Nothing\"\n",
        "    else:\n",
        "      self.inorderT(idx*2)\n",
        "      print(self.li[idx])\n",
        "      self.inorderT(idx * 2 + 1)\n",
        "\n",
        "  def postorderT(self,idx):\n",
        "    if idx > self.lastusedidx:\n",
        "      return \"Nothing\"\n",
        "    else:\n",
        "      self.postorderT(idx * 2)\n",
        "      self.postorderT(idx * 2 + 1)\n",
        "      print(self.li[idx])\n",
        "\n",
        "  def levelorderT(self,idx):\n",
        "    for idx in range(idx, self.lastusedidx + 1):\n",
        "      print(self.li[idx])\n",
        "\n",
        "  def deletenode(self,nodeV):\n",
        "    if self.lastusedidx == 0:\n",
        "      return\n",
        "    else:\n",
        "      for idx in range(1,self.lastusedidx + 1):\n",
        "       if self.li[idx] == nodeV:\n",
        "         self.li[idx] = self.li[self.lastusedidx]\n",
        "         self.li[self.lastusedidx] = None\n",
        "         self.lastusedidx -= 1\n",
        "         return \"That node is deleted and deepestNode is replaced with the recently deleted node\"\n",
        "  def delete(self):\n",
        "    self.li = None\n",
        "    return \"LBT Deleted\"\n",
        "\n",
        "\n",
        "LBT = BTT(8)\n",
        "print(LBT.insert(\"Books\"))\n",
        "print(LBT.insert(\"Dark\"))\n",
        "print(LBT.insert(\"Sci-fi\"))\n",
        "print(LBT.insert(\"Mafia Assassin\"))\n",
        "print(LBT.insert(\"His Demons\"))\n",
        "print(LBT.insert(\"The Red door\"))\n",
        "print(LBT.insert(\"The long walk\"))\n"
      ],
      "execution_count": null,
      "outputs": [
        {
          "output_type": "stream",
          "text": [
            "Inserted in a BT\n",
            "Inserted in a BT\n",
            "Inserted in a BT\n",
            "Inserted in a BT\n",
            "Inserted in a BT\n",
            "Inserted in a BT\n",
            "Inserted in a BT\n"
          ],
          "name": "stdout"
        }
      ]
    },
    {
      "cell_type": "code",
      "metadata": {
        "colab": {
          "base_uri": "https://localhost:8080/"
        },
        "id": "LGKsjccUJPXL",
        "outputId": "e4f1ab6b-e144-4d5b-e11c-1d61e8b67440"
      },
      "source": [
        "print(LBT.search(\"Dark\"))"
      ],
      "execution_count": null,
      "outputs": [
        {
          "output_type": "stream",
          "text": [
            "Yes\n"
          ],
          "name": "stdout"
        }
      ]
    },
    {
      "cell_type": "code",
      "metadata": {
        "colab": {
          "base_uri": "https://localhost:8080/"
        },
        "id": "0Ze229j9HP9e",
        "outputId": "5488bc0b-b1b2-4ff9-fbcb-82820a0afa40"
      },
      "source": [
        "LBT.preorderT(1)"
      ],
      "execution_count": null,
      "outputs": [
        {
          "output_type": "stream",
          "text": [
            "Books\n",
            "Dark\n",
            "Mafia Assassin\n",
            "His Demons\n",
            "Sci-fi\n",
            "The Red door\n",
            "The long walk\n"
          ],
          "name": "stdout"
        }
      ]
    },
    {
      "cell_type": "code",
      "metadata": {
        "colab": {
          "base_uri": "https://localhost:8080/"
        },
        "id": "1fYATEsgMgJj",
        "outputId": "af8a5dda-87eb-4e6e-bcb8-6ea8056dc95e"
      },
      "source": [
        "LBT.inorderT(1)"
      ],
      "execution_count": null,
      "outputs": [
        {
          "output_type": "stream",
          "text": [
            "Mafia Assassin\n",
            "Dark\n",
            "His Demons\n",
            "Books\n",
            "The Red door\n",
            "Sci-fi\n",
            "The long walk\n"
          ],
          "name": "stdout"
        }
      ]
    },
    {
      "cell_type": "code",
      "metadata": {
        "colab": {
          "base_uri": "https://localhost:8080/"
        },
        "id": "qrg0tNNlMgA9",
        "outputId": "0b94e110-f8e2-43c1-9102-919a2681c28f"
      },
      "source": [
        "LBT.postorderT(1)"
      ],
      "execution_count": null,
      "outputs": [
        {
          "output_type": "stream",
          "text": [
            "Mafia Assassin\n",
            "His Demons\n",
            "Dark\n",
            "The Red door\n",
            "The long walk\n",
            "Sci-fi\n",
            "Books\n"
          ],
          "name": "stdout"
        }
      ]
    },
    {
      "cell_type": "code",
      "metadata": {
        "colab": {
          "base_uri": "https://localhost:8080/"
        },
        "id": "lxYWeMtvMfg4",
        "outputId": "f4458e60-4b69-45c8-c7ab-3ba0db2f2241"
      },
      "source": [
        "LBT.levelorderT(1)"
      ],
      "execution_count": null,
      "outputs": [
        {
          "output_type": "stream",
          "text": [
            "Books\n",
            "Dark\n",
            "Sci-fi\n",
            "Mafia Assassin\n",
            "His Demons\n",
            "The Red door\n",
            "The long walk\n"
          ],
          "name": "stdout"
        }
      ]
    },
    {
      "cell_type": "code",
      "metadata": {
        "colab": {
          "base_uri": "https://localhost:8080/"
        },
        "id": "y7ok4tf0MfXd",
        "outputId": "e254349c-8807-4a02-cb93-a7c86afccff0"
      },
      "source": [
        "LBT.deletenode(\"The long walk\")\n",
        "LBT.postorderT(1)"
      ],
      "execution_count": null,
      "outputs": [
        {
          "output_type": "stream",
          "text": [
            "Mafia Assassin\n",
            "His Demons\n",
            "Dark\n",
            "The Red door\n",
            "Sci-fi\n",
            "Books\n"
          ],
          "name": "stdout"
        }
      ]
    },
    {
      "cell_type": "code",
      "metadata": {
        "colab": {
          "base_uri": "https://localhost:8080/"
        },
        "id": "iCOADGwDha47",
        "outputId": "87542fbc-59f0-4332-bd01-e7cc0386f99c"
      },
      "source": [
        "print(LBT.delete())\n"
      ],
      "execution_count": null,
      "outputs": [
        {
          "output_type": "stream",
          "text": [
            "LBT Deleted\n"
          ],
          "name": "stdout"
        }
      ]
    }
  ]
}